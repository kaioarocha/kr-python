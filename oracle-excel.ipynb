{
 "cells": [
  {
   "cell_type": "code",
   "execution_count": null,
   "id": "c1ed9a00",
   "metadata": {
    "id": "c1ed9a00"
   },
   "outputs": [],
   "source": [
    "#!pip install cx-Oracle"
   ]
  },
  {
   "cell_type": "markdown",
   "id": "fe23a977",
   "metadata": {},
   "source": [
    "Descrição: \n",
    "Essa demanda era realizada manualmente pelos analistas e demandava tempo devido a quantidade de informações. Era recuperado informações de 5 scrips SQL em base de dados Oracle para posterior armazenamento em planilha excel. \n",
    "\n",
    "Como as consultas eram no âmbito do Exército Brasileiro, as informações tinham que ser divididas de acordo com a responsabilidade de cada Comando Militar de Área e Grande Unidade para envio periódico. \n",
    "\n",
    "Os analistas demoravam alguns dias para organizar todos os arquivos. Após a implementação desse código o trabalho passou a ser entregue em minutos.\n",
    "\n",
    "\n",
    "Abaixo um breve resumo da quantidade de arquivos que eram gerados:\n",
    "\n",
    "Comandos Militares: 8\n",
    "Grandes Unidades: 10\n",
    "\n",
    "Quantidade de arquivos gerados: 18\n",
    "Quantidade de abas por Arquivo: 6 (5 abas das informações e 1 para a legenda dos dados)\n",
    "Quantidade de abas ao total: 108\n",
    "\n",
    "\n",
    "\n",
    "\n",
    "\n"
   ]
  },
  {
   "cell_type": "code",
   "execution_count": null,
   "id": "8e7b2cca",
   "metadata": {
    "id": "8e7b2cca"
   },
   "outputs": [],
   "source": [
    "import cx_Oracle\n",
    "from getpass import getpass\n",
    "import pandas as pd"
   ]
  },
  {
   "cell_type": "code",
   "execution_count": null,
   "id": "58b71ab5",
   "metadata": {
    "id": "58b71ab5",
    "outputId": "38e9b2b8-38e3-4b78-e41d-48fe5c6e2b17"
   },
   "outputs": [],
   "source": [
    "#inicia a conexão com o banco de dados Oracle\n",
    "try:\n",
    "    conexao = cx_Oracle.connect(\n",
    "        user = '<user>',\n",
    "        password = '<pass>',\n",
    "        dsn = '<dsn>')\n",
    "except Exception as err:\n",
    "    print('Erro: ',err)\n",
    "else:\n",
    "    print('Conectado: ', conexao.version)"
   ]
  },
  {
   "cell_type": "code",
   "execution_count": null,
   "id": "5390b697",
   "metadata": {
    "id": "5390b697"
   },
   "outputs": [],
   "source": [
    "# Diretório aonde os script SQL de consultas estão armazenados\n",
    "diretorio_sql = \"<diretorio>\""
   ]
  },
  {
   "cell_type": "code",
   "execution_count": null,
   "id": "37c616dc",
   "metadata": {
    "id": "37c616dc"
   },
   "outputs": [],
   "source": [
    "#Nome dos dos arquivos .sql utilizados\n",
    "lista_sql = ['script1.sql',\n",
    "             'script2.sql',\n",
    "             'script3.sql',\n",
    "             'script4.sql',\n",
    "             'script5.sql']"
   ]
  },
  {
   "cell_type": "code",
   "execution_count": null,
   "id": "dd4445fb",
   "metadata": {
    "id": "dd4445fb"
   },
   "outputs": [],
   "source": [
    "#Arquivo que consta explicações das informações extraídas. Será armazenado na última aba de cada planilha gerada.\n",
    "legenda_roteiro = 'legenda_abas.txt'"
   ]
  },
  {
   "cell_type": "code",
   "execution_count": null,
   "id": "42b25844",
   "metadata": {
    "id": "42b25844",
    "outputId": "981c6606-3479-4846-fab9-170fbd81f669"
   },
   "outputs": [],
   "source": [
    "cursor = conexao.cursor()\n",
    "\n",
    "for arquivo_sql in lista_sql:\n",
    "    #lê o arquivo .sql\n",
    "    with open(f'{diretorio_sql}{arquivo_sql}', \"r\") as file:\n",
    "        #armazena o script na variável\n",
    "        sql = file.read()\n",
    "        #executa o sql no banco de dados\n",
    "        cursor.execute(sql)\n",
    "        #armazena os resultados na variável\n",
    "        row = cursor.fetchall()\n",
    "\n",
    "        if arquivo_sql == \"script1.sql\":\n",
    "            assunto_1 = pd.DataFrame(row, columns = ['Col_1','Col_2','Col_3','Col_4', 'Col_5', 'Qtd'])\n",
    "        elif arquivo_sql == \"script2.sql\":\n",
    "            assunto_2 = pd.DataFrame(row, columns = ['Col_1','Col_2','Col_3','Col_4', 'Col_5', 'Qtd'])\n",
    "        elif arquivo_sql == \"script3.sql\":\n",
    "            assunto_3 = pd.DataFrame(row, columns = ['Col_1','Col_2','Col_3','Col_4', 'Col_5', 'Qtd'])\n",
    "        elif arquivo_sql == \"script4.sql\":\n",
    "            assunto_4 = pd.DataFrame(row, columns = ['Col_1','Col_2','Col_3','Col_4', 'Col_5', 'Qtd'])\n",
    "        elif arquivo_sql == \"script5.sql\":\n",
    "            assunto_5 = pd.DataFrame(row, columns = ['Col_1','Col_2','Col_3','Col_4', 'Col_5', 'Qtd_1', 'Qtd_2','Qtd_3','Qtd_4','Qtd_5', 'Qtd_5', 'Qtd_7', 'Qtd_8'])\n",
    "\n",
    "cursor.close()\n",
    "display(\"Finalizado\")"
   ]
  },
  {
   "cell_type": "code",
   "execution_count": null,
   "id": "cd9bda23",
   "metadata": {
    "id": "cd9bda23"
   },
   "outputs": [],
   "source": [
    "#encerra a conexão com o banco de dados\n",
    "conexao.close()"
   ]
  },
  {
   "cell_type": "code",
   "execution_count": null,
   "id": "3bc09d88",
   "metadata": {
    "id": "3bc09d88"
   },
   "outputs": [],
   "source": [
    "#criação de log para verificar se o total de registros de cada script está correto\n",
    "log = []\n",
    "log.append(f\"Total assunto 1: {len(assunto_1)}\\t\")\n",
    "log.append(f\"Total assunto 2: {len(assunto_2)}\")\n",
    "log.append(f\"Total assunto 3: {len(assunto_3)}\")\n",
    "log.append(f\"Total assunto 4: {len(assunto_4)}\")\n",
    "log.append(f\"Total assunto 5: {len(assunto_5)}\\n\\n\\n\")"
   ]
  },
  {
   "cell_type": "code",
   "execution_count": null,
   "id": "df248968",
   "metadata": {
    "id": "df248968"
   },
   "outputs": [],
   "source": [
    "#Lista com a sigla dos Comandos Militares existentes no Brasil\n",
    "lista_cmdo_mil_a = ['CMSE', 'CMNE', 'CMS', 'CMA', 'CMP', 'CMO', 'CML', 'CMN']"
   ]
  },
  {
   "cell_type": "code",
   "execution_count": null,
   "id": "037fa780",
   "metadata": {
    "id": "037fa780"
   },
   "outputs": [],
   "source": [
    "relatorios = [assunto_1, assunto_2, assunto_3, assunto_4, assunto_5]"
   ]
  },
  {
   "cell_type": "code",
   "execution_count": null,
   "id": "6cea3ae8",
   "metadata": {
    "id": "6cea3ae8"
   },
   "outputs": [],
   "source": [
    "#Lista com o descrição de cada aba das planilhas\n",
    "abas = [\"aba_1\",\"aba_2\",\"aba_3\",\"aba_4\",\"aba_5\"]"
   ]
  },
  {
   "cell_type": "code",
   "execution_count": null,
   "id": "209fdea6",
   "metadata": {
    "id": "209fdea6",
    "outputId": "24e5fe0d-c815-4935-a1e9-6517af786806"
   },
   "outputs": [],
   "source": [
    "# Para cada Comando Militar de Área será gerado uma planilha contendo 6 abas. 5 referente aos assuntos e 1 para a legenda\n",
    "for cmdo_mil_a in lista_cmdo_mil_a:\n",
    "    #variável utilizada para leitura de cada posição da lista de relatórios\n",
    "    i = 0\n",
    "    # Usando o ExcelWriter, cria um documento .xlsx, usando engine='xlsxwriter'\n",
    "    writer = pd.ExcelWriter(f\"Relatório - {cmdo_mil_a}.xlsx\", engine='xlsxwriter')\n",
    "    \n",
    "    #Recuperação do nome de cada aba que constará na planilha\n",
    "    for aba in abas:  \n",
    "        #Descrição da aba é armazenada na variável\n",
    "        rel = relatorios[i]\n",
    "        #filtra os dados a serem armazenados na planilha\n",
    "        rel_filtrado = rel[rel[\"Cmdo Mil A\"] == cmdo_mil_a]\n",
    "        #armazena os dados na planilha e define o nome da aba\n",
    "        rel_filtrado.to_excel(writer, sheet_name = aba, index = False)\n",
    "        i += 1\n",
    "    #abertura do arquivo de texto para inserção da legenda na última aba\n",
    "    with open(f'{diretorio_sql}{legenda_roteiro}', \"r\") as file:\n",
    "        lines = file.readlines()\n",
    "    df = pd.DataFrame(lines, columns=['Roteiro Legenda'])\n",
    "    df.to_excel(writer, sheet_name = \"Legenda\", index = False)\n",
    "\n",
    "    #salva os dados no arquivo\n",
    "    writer.save()\n",
    "display('Finalizado')"
   ]
  },
  {
   "cell_type": "code",
   "execution_count": null,
   "id": "165e422d",
   "metadata": {
    "id": "165e422d"
   },
   "outputs": [],
   "source": [
    "lista_gu = ['GU_1','GU_2','GU_3', 'GU_4', 'GU_5', 'GU_6', 'GU_7', 'GU_8', 'GU_9','GU_10']"
   ]
  },
  {
   "cell_type": "code",
   "execution_count": null,
   "id": "e2324ee8",
   "metadata": {
    "id": "e2324ee8",
    "outputId": "12f08287-6400-47c8-8e39-62ebe55e893b"
   },
   "outputs": [],
   "source": [
    "# Para cada Grande Unidade será gerado uma planilha contendo 6 abas. 5 referente aos assuntos e 1 para a legenda\n",
    "for gu in lista_gu:\n",
    "    #variável utilizada para leitura de cada posição da lista de relatórios\n",
    "    i = 0\n",
    "    # Usando o ExcelWriter, cria um documento .xlsx, usando engine='xlsxwriter'\n",
    "    writer = pd.ExcelWriter(f\"Relatório - {gu}.xlsx\", engine='xlsxwriter')\n",
    "\n",
    "    #Recuperação do nome de cada aba que constará na planilha\n",
    "    for aba in abas:\n",
    "        #Descrição da aba é armazenada na variável\n",
    "        rel = relatorios[i]\n",
    "        #filtra os dados a serem armazenados na planilha\n",
    "        rel_filtrado = rel[rel[\"GU\"] == gu]\n",
    "        #armazena os dados na planilha e define o nome da aba\n",
    "        rel_filtrado.to_excel(writer, sheet_name = aba, index = False)\n",
    "        i += 1\n",
    "        \n",
    "    #abertura do arquivo de texto para inserção da legenda na última aba\n",
    "    with open(f'{diretorio_sql}{legenda_roteiro}', \"r\") as file:\n",
    "        lines = file.readlines()\n",
    "    df = pd.DataFrame(lines, columns=['Roteiro Legenda'])\n",
    "    df.to_excel(writer, sheet_name = \"Legenda\", index = False)\n",
    "\n",
    "    #salva os dados no arquivo\n",
    "    writer.save()\n",
    "display('Finalizado')"
   ]
  },
  {
   "cell_type": "code",
   "execution_count": null,
   "id": "04f99fa3",
   "metadata": {
    "id": "04f99fa3",
    "outputId": "7a31d1c4-f199-4d4a-936a-db47e225f1b9"
   },
   "outputs": [],
   "source": [
    "#Arquivo de log para armazenar a quantidade de registros recuperados em cada script SQL \n",
    "with open('log_arquivos.txt', 'w', encoding='utf-8') as f:\n",
    "    for i in log:\n",
    "        f.write(f'{i}\\n')\n",
    "f.close()\n",
    "display(\"Finalizado\")"
   ]
  },
  {
   "cell_type": "code",
   "execution_count": null,
   "id": "4beec805",
   "metadata": {
    "id": "4beec805"
   },
   "outputs": [],
   "source": []
  }
 ],
 "metadata": {
  "colab": {
   "provenance": []
  },
  "kernelspec": {
   "display_name": "Python 3 (ipykernel)",
   "language": "python",
   "name": "python3"
  },
  "language_info": {
   "codemirror_mode": {
    "name": "ipython",
    "version": 3
   },
   "file_extension": ".py",
   "mimetype": "text/x-python",
   "name": "python",
   "nbconvert_exporter": "python",
   "pygments_lexer": "ipython3",
   "version": "3.11.5"
  }
 },
 "nbformat": 4,
 "nbformat_minor": 5
}
